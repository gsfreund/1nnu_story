{
 "cells": [
  {
   "cell_type": "markdown",
   "metadata": {
    "collapsed": true
   },
   "source": [
    "#7.23 1NNU titration using crot-coa"
   ]
  },
  {
   "cell_type": "code",
   "execution_count": 110,
   "metadata": {
    "collapsed": false
   },
   "outputs": [],
   "source": [
    "import pandas\n",
    "%matplotlib inline\n",
    "import numpy as np\n",
    "df1 = pandas.read_csv('7.23 1NNU titration using crot-coa - Sheet1.csv')"
   ]
  },
  {
   "cell_type": "code",
   "execution_count": 111,
   "metadata": {
    "collapsed": false
   },
   "outputs": [
    {
     "data": {
      "text/plain": [
       "Index([u'Well', u'mg/ml', u'Enzyme 1', u'log Enzyme 1', u'velocity 1',\n",
       "       u'Unnamed: 5', u'Well.1', u'mg/ml.1', u'Enzyme 2', u'velocity 2'],\n",
       "      dtype='object')"
      ]
     },
     "execution_count": 111,
     "metadata": {},
     "output_type": "execute_result"
    }
   ],
   "source": [
    "df1.columns"
   ]
  },
  {
   "cell_type": "code",
   "execution_count": 112,
   "metadata": {
    "collapsed": false
   },
   "outputs": [
    {
     "name": "stdout",
     "output_type": "stream",
     "text": [
      "  Well         mg/ml      Enzyme 1  log Enzyme 1  velocity 1  Unnamed: 5  \\\n",
      "0  B11  2.450000e-02  8.070000e-07     -6.093126     -12.392         NaN   \n",
      "1  C11  2.450000e-03  8.070000e-08     -7.093126     -10.140         NaN   \n",
      "2  D11  2.450000e-04  8.070000e-09     -8.093126      -5.983         NaN   \n",
      "3  E11  2.450000e-05  8.070000e-10     -9.093126      -1.164         NaN   \n",
      "4  F11  2.450000e-06  8.070000e-11    -10.093126      -0.213         NaN   \n",
      "5  G11  2.450000e-07  8.070000e-12    -11.093126      -0.175         NaN   \n",
      "6  H11  0.000000e+00  0.000000e+00      0.000000       0.226         NaN   \n",
      "\n",
      "  Well.1       mg/ml.1      Enzyme 2  velocity 2  \n",
      "0    B12  2.050000e-02  6.750000e-07     -12.629  \n",
      "1    C12  2.050000e-03  6.750000e-08     -10.510  \n",
      "2    D12  2.050000e-04  6.750000e-09      -5.150  \n",
      "3    E12  2.050000e-05  6.750000e-10      -0.929  \n",
      "4    F12  2.050000e-06  6.750000e-11      -0.288  \n",
      "5    G12  2.050000e-07  6.750000e-12      -0.128  \n",
      "6    H12  0.000000e+00  0.000000e+00       0.357  \n"
     ]
    }
   ],
   "source": [
    "print(df1)"
   ]
  },
  {
   "cell_type": "code",
   "execution_count": null,
   "metadata": {
    "collapsed": false
   },
   "outputs": [],
   "source": []
  },
  {
   "cell_type": "code",
   "execution_count": 105,
   "metadata": {
    "collapsed": false,
    "scrolled": true
   },
   "outputs": [
    {
     "name": "stdout",
     "output_type": "stream",
     "text": [
      "0    8.070000e-07\n",
      "1    8.070000e-08\n",
      "2    8.070000e-09\n",
      "3    8.070000e-10\n",
      "4    8.070000e-11\n",
      "5    8.070000e-12\n",
      "6    0.000000e+00\n",
      "Name: Enzyme, dtype: float64\n"
     ]
    }
   ],
   "source": [
    "print df1['Enzyme']"
   ]
  },
  {
   "cell_type": "code",
   "execution_count": 135,
   "metadata": {
    "collapsed": false
   },
   "outputs": [
    {
     "name": "stdout",
     "output_type": "stream",
     "text": [
      "  Well         mg/ml      Enzyme 1  log Enzyme 1  velocity 1  Unnamed: 5  \\\n",
      "0  B11  2.450000e-02  8.070000e-07     -6.093126     -12.392         NaN   \n",
      "1  C11  2.450000e-03  8.070000e-08     -7.093126     -10.140         NaN   \n",
      "2  D11  2.450000e-04  8.070000e-09     -8.093126      -5.983         NaN   \n",
      "3  E11  2.450000e-05  8.070000e-10     -9.093126      -1.164         NaN   \n",
      "4  F11  2.450000e-06  8.070000e-11    -10.093126      -0.213         NaN   \n",
      "5  G11  2.450000e-07  8.070000e-12    -11.093126      -0.175         NaN   \n",
      "6  H11  0.000000e+00  0.000000e+00      0.000000       0.226         NaN   \n",
      "\n",
      "  Well.1       mg/ml.1      Enzyme 2  velocity 2    bananas  \n",
      "0    B12  2.050000e-02  6.750000e-07     -12.629  -6.093126  \n",
      "1    C12  2.050000e-03  6.750000e-08     -10.510  -7.093126  \n",
      "2    D12  2.050000e-04  6.750000e-09      -5.150  -8.093126  \n",
      "3    E12  2.050000e-05  6.750000e-10      -0.929  -9.093126  \n",
      "4    F12  2.050000e-06  6.750000e-11      -0.288 -10.093126  \n",
      "5    G12  2.050000e-07  6.750000e-12      -0.128 -11.093126  \n",
      "6    H12  0.000000e+00  0.000000e+00       0.357       -inf  \n"
     ]
    }
   ],
   "source": [
    "df1['bananas'] = np.log10(df1['Enzyme 1'])\n",
    "print df1"
   ]
  },
  {
   "cell_type": "code",
   "execution_count": 162,
   "metadata": {
    "collapsed": false
   },
   "outputs": [
    {
     "data": {
      "text/html": [
       "<div>\n",
       "<table border=\"1\" class=\"dataframe\">\n",
       "  <thead>\n",
       "    <tr style=\"text-align: right;\">\n",
       "      <th></th>\n",
       "      <th>Well</th>\n",
       "      <th>mg/ml</th>\n",
       "      <th>Enzyme 1</th>\n",
       "      <th>log Enzyme 1</th>\n",
       "      <th>velocity 1</th>\n",
       "      <th>Unnamed: 5</th>\n",
       "      <th>Well.1</th>\n",
       "      <th>mg/ml.1</th>\n",
       "      <th>Enzyme 2</th>\n",
       "      <th>velocity 2</th>\n",
       "      <th>bananas</th>\n",
       "    </tr>\n",
       "  </thead>\n",
       "  <tbody>\n",
       "    <tr>\n",
       "      <th>0</th>\n",
       "      <td>B11</td>\n",
       "      <td>2.450000e-02</td>\n",
       "      <td>8.070000e-07</td>\n",
       "      <td>-6.093126</td>\n",
       "      <td>-12.392</td>\n",
       "      <td>NaN</td>\n",
       "      <td>B12</td>\n",
       "      <td>2.050000e-02</td>\n",
       "      <td>6.750000e-07</td>\n",
       "      <td>-12.629</td>\n",
       "      <td>-6.093126</td>\n",
       "    </tr>\n",
       "    <tr>\n",
       "      <th>1</th>\n",
       "      <td>C11</td>\n",
       "      <td>2.450000e-03</td>\n",
       "      <td>8.070000e-08</td>\n",
       "      <td>-7.093126</td>\n",
       "      <td>-10.140</td>\n",
       "      <td>NaN</td>\n",
       "      <td>C12</td>\n",
       "      <td>2.050000e-03</td>\n",
       "      <td>6.750000e-08</td>\n",
       "      <td>-10.510</td>\n",
       "      <td>-7.093126</td>\n",
       "    </tr>\n",
       "    <tr>\n",
       "      <th>2</th>\n",
       "      <td>D11</td>\n",
       "      <td>2.450000e-04</td>\n",
       "      <td>8.070000e-09</td>\n",
       "      <td>-8.093126</td>\n",
       "      <td>-5.983</td>\n",
       "      <td>NaN</td>\n",
       "      <td>D12</td>\n",
       "      <td>2.050000e-04</td>\n",
       "      <td>6.750000e-09</td>\n",
       "      <td>-5.150</td>\n",
       "      <td>-8.093126</td>\n",
       "    </tr>\n",
       "    <tr>\n",
       "      <th>3</th>\n",
       "      <td>E11</td>\n",
       "      <td>2.450000e-05</td>\n",
       "      <td>8.070000e-10</td>\n",
       "      <td>-9.093126</td>\n",
       "      <td>-1.164</td>\n",
       "      <td>NaN</td>\n",
       "      <td>E12</td>\n",
       "      <td>2.050000e-05</td>\n",
       "      <td>6.750000e-10</td>\n",
       "      <td>-0.929</td>\n",
       "      <td>-9.093126</td>\n",
       "    </tr>\n",
       "    <tr>\n",
       "      <th>4</th>\n",
       "      <td>F11</td>\n",
       "      <td>2.450000e-06</td>\n",
       "      <td>8.070000e-11</td>\n",
       "      <td>-10.093126</td>\n",
       "      <td>-0.213</td>\n",
       "      <td>NaN</td>\n",
       "      <td>F12</td>\n",
       "      <td>2.050000e-06</td>\n",
       "      <td>6.750000e-11</td>\n",
       "      <td>-0.288</td>\n",
       "      <td>-10.093126</td>\n",
       "    </tr>\n",
       "    <tr>\n",
       "      <th>5</th>\n",
       "      <td>G11</td>\n",
       "      <td>2.450000e-07</td>\n",
       "      <td>8.070000e-12</td>\n",
       "      <td>-11.093126</td>\n",
       "      <td>-0.175</td>\n",
       "      <td>NaN</td>\n",
       "      <td>G12</td>\n",
       "      <td>2.050000e-07</td>\n",
       "      <td>6.750000e-12</td>\n",
       "      <td>-0.128</td>\n",
       "      <td>-11.093126</td>\n",
       "    </tr>\n",
       "  </tbody>\n",
       "</table>\n",
       "</div>"
      ],
      "text/plain": [
       "  Well         mg/ml      Enzyme 1  log Enzyme 1  velocity 1  Unnamed: 5  \\\n",
       "0  B11  2.450000e-02  8.070000e-07     -6.093126     -12.392         NaN   \n",
       "1  C11  2.450000e-03  8.070000e-08     -7.093126     -10.140         NaN   \n",
       "2  D11  2.450000e-04  8.070000e-09     -8.093126      -5.983         NaN   \n",
       "3  E11  2.450000e-05  8.070000e-10     -9.093126      -1.164         NaN   \n",
       "4  F11  2.450000e-06  8.070000e-11    -10.093126      -0.213         NaN   \n",
       "5  G11  2.450000e-07  8.070000e-12    -11.093126      -0.175         NaN   \n",
       "\n",
       "  Well.1       mg/ml.1      Enzyme 2  velocity 2    bananas  \n",
       "0    B12  2.050000e-02  6.750000e-07     -12.629  -6.093126  \n",
       "1    C12  2.050000e-03  6.750000e-08     -10.510  -7.093126  \n",
       "2    D12  2.050000e-04  6.750000e-09      -5.150  -8.093126  \n",
       "3    E12  2.050000e-05  6.750000e-10      -0.929  -9.093126  \n",
       "4    F12  2.050000e-06  6.750000e-11      -0.288 -10.093126  \n",
       "5    G12  2.050000e-07  6.750000e-12      -0.128 -11.093126  "
      ]
     },
     "execution_count": 162,
     "metadata": {},
     "output_type": "execute_result"
    }
   ],
   "source": [
    "df1 = df1[ ( df1['Enzyme 1'] != 0 ) ]\n",
    "df1"
   ]
  },
  {
   "cell_type": "code",
   "execution_count": 169,
   "metadata": {
    "collapsed": false
   },
   "outputs": [],
   "source": [
    "def clean_my_dataframe( df ):\n",
    "    df = df[ ( df['Enzyme 1'] != 0 ) ]\n",
    "    return df "
   ]
  },
  {
   "cell_type": "markdown",
   "metadata": {},
   "source": [
    "#7.23 1NNU titration using crot-CoA"
   ]
  },
  {
   "cell_type": "code",
   "execution_count": 137,
   "metadata": {
    "collapsed": false
   },
   "outputs": [
    {
     "data": {
      "image/png": "[encoded data removed]",
      "text/plain": [
       "<matplotlib.figure.Figure at 0x109385cd0>"
      ]
     },
     "metadata": {},
     "output_type": "display_data"
    }
   ],
   "source": [
    "df1.plot(x='Enzyme 1',y='velocity 1',kind='scatter', logx=True)\n",
    "df1.plot?"
   ]
  },
  {
   "cell_type": "code",
   "execution_count": 122,
   "metadata": {
    "collapsed": false
   },
   "outputs": [
    {
     "data": {
      "text/plain": [
       "<matplotlib.axes._subplots.AxesSubplot at 0x108eb01d0>"
      ]
     },
     "execution_count": 122,
     "metadata": {},
     "output_type": "execute_result"
    },
    {
     "data": {
      "image/png": "[encoded data removed]",
      "text/plain": [
       "<matplotlib.figure.Figure at 0x1089e63d0>"
      ]
     },
     "metadata": {},
     "output_type": "display_data"
    }
   ],
   "source": [
    "df1.plot(x='log Enzyme 1',y='velocity 1',kind='scatter')"
   ]
  },
  {
   "cell_type": "markdown",
   "metadata": {},
   "source": [
    "#Since this next experiment was a proof of concept, do I still want to present it?"
   ]
  },
  {
   "cell_type": "code",
   "execution_count": 44,
   "metadata": {
    "collapsed": false
   },
   "outputs": [],
   "source": [
    "df = pandas.read_csv('7.29 1NNU 10k dil + 1 um, nm, pm TCS - Sheet1.csv')"
   ]
  },
  {
   "cell_type": "code",
   "execution_count": 45,
   "metadata": {
    "collapsed": false
   },
   "outputs": [
    {
     "data": {
      "text/plain": [
       "Index([u'1NNU 1', u'Well 1', u'mg/ml 1', u'[E] 1', u'[TCS] pM 1',\n",
       "       u'velocity t:10-25 1', u'velocity t:35-60 1', u'Unnamed: 7', u'1NNU 2',\n",
       "       u'Well 2', u'mg/ml 2', u'[E] 2', u'[TCS] pM 2', u'velocity t:10-25 2',\n",
       "       u'velocity t:35-60 2'],\n",
       "      dtype='object')"
      ]
     },
     "execution_count": 45,
     "metadata": {},
     "output_type": "execute_result"
    }
   ],
   "source": [
    "df.columns"
   ]
  },
  {
   "cell_type": "code",
   "execution_count": 46,
   "metadata": {
    "collapsed": false
   },
   "outputs": [
    {
     "data": {
      "text/html": [
       "<div>\n",
       "<table border=\"1\" class=\"dataframe\">\n",
       "  <thead>\n",
       "    <tr style=\"text-align: right;\">\n",
       "      <th></th>\n",
       "      <th>1NNU 1</th>\n",
       "      <th>Well 1</th>\n",
       "      <th>mg/ml 1</th>\n",
       "      <th>[E] 1</th>\n",
       "      <th>[TCS] pM 1</th>\n",
       "      <th>velocity t:10-25 1</th>\n",
       "      <th>velocity t:35-60 1</th>\n",
       "      <th>Unnamed: 7</th>\n",
       "      <th>1NNU 2</th>\n",
       "      <th>Well 2</th>\n",
       "      <th>mg/ml 2</th>\n",
       "      <th>[E] 2</th>\n",
       "      <th>[TCS] pM 2</th>\n",
       "      <th>velocity t:10-25 2</th>\n",
       "      <th>velocity t:35-60 2</th>\n",
       "    </tr>\n",
       "  </thead>\n",
       "  <tbody>\n",
       "    <tr>\n",
       "      <th>0</th>\n",
       "      <td>NaN</td>\n",
       "      <td>A1</td>\n",
       "      <td>0.000088</td>\n",
       "      <td>2.880000e-09</td>\n",
       "      <td>0</td>\n",
       "      <td>0.549</td>\n",
       "      <td>-1.412</td>\n",
       "      <td>NaN</td>\n",
       "      <td>NaN</td>\n",
       "      <td>A2</td>\n",
       "      <td>0.000099</td>\n",
       "      <td>3.270000e-09</td>\n",
       "      <td>0</td>\n",
       "      <td>-0.796</td>\n",
       "      <td>-1.586</td>\n",
       "    </tr>\n",
       "    <tr>\n",
       "      <th>1</th>\n",
       "      <td>NaN</td>\n",
       "      <td>B1</td>\n",
       "      <td>NaN</td>\n",
       "      <td>NaN</td>\n",
       "      <td>0</td>\n",
       "      <td>0.016</td>\n",
       "      <td>-0.108</td>\n",
       "      <td>NaN</td>\n",
       "      <td>NaN</td>\n",
       "      <td>B2</td>\n",
       "      <td>NaN</td>\n",
       "      <td>NaN</td>\n",
       "      <td>0</td>\n",
       "      <td>-0.049</td>\n",
       "      <td>-0.128</td>\n",
       "    </tr>\n",
       "    <tr>\n",
       "      <th>2</th>\n",
       "      <td>NaN</td>\n",
       "      <td>C1</td>\n",
       "      <td>0.000088</td>\n",
       "      <td>2.880000e-09</td>\n",
       "      <td>1000000</td>\n",
       "      <td>0.067</td>\n",
       "      <td>0.138</td>\n",
       "      <td>NaN</td>\n",
       "      <td>NaN</td>\n",
       "      <td>C2</td>\n",
       "      <td>0.000099</td>\n",
       "      <td>3.270000e-09</td>\n",
       "      <td>1000000</td>\n",
       "      <td>-0.091</td>\n",
       "      <td>0.029</td>\n",
       "    </tr>\n",
       "    <tr>\n",
       "      <th>3</th>\n",
       "      <td>NaN</td>\n",
       "      <td>D1</td>\n",
       "      <td>0.000088</td>\n",
       "      <td>2.880000e-09</td>\n",
       "      <td>1000</td>\n",
       "      <td>-0.718</td>\n",
       "      <td>-1.956</td>\n",
       "      <td>NaN</td>\n",
       "      <td>NaN</td>\n",
       "      <td>D2</td>\n",
       "      <td>0.000099</td>\n",
       "      <td>3.270000e-09</td>\n",
       "      <td>1000</td>\n",
       "      <td>-0.740</td>\n",
       "      <td>-1.699</td>\n",
       "    </tr>\n",
       "    <tr>\n",
       "      <th>4</th>\n",
       "      <td>NaN</td>\n",
       "      <td>E1</td>\n",
       "      <td>0.000088</td>\n",
       "      <td>2.880000e-09</td>\n",
       "      <td>1</td>\n",
       "      <td>-0.872</td>\n",
       "      <td>-0.799</td>\n",
       "      <td>NaN</td>\n",
       "      <td>NaN</td>\n",
       "      <td>E2</td>\n",
       "      <td>0.000099</td>\n",
       "      <td>3.270000e-09</td>\n",
       "      <td>1</td>\n",
       "      <td>-0.801</td>\n",
       "      <td>-0.686</td>\n",
       "    </tr>\n",
       "  </tbody>\n",
       "</table>\n",
       "</div>"
      ],
      "text/plain": [
       "   1NNU 1 Well 1   mg/ml 1         [E] 1  [TCS] pM 1  velocity t:10-25 1  \\\n",
       "0     NaN     A1  0.000088  2.880000e-09           0               0.549   \n",
       "1     NaN     B1       NaN           NaN           0               0.016   \n",
       "2     NaN     C1  0.000088  2.880000e-09     1000000               0.067   \n",
       "3     NaN     D1  0.000088  2.880000e-09        1000              -0.718   \n",
       "4     NaN     E1  0.000088  2.880000e-09           1              -0.872   \n",
       "\n",
       "   velocity t:35-60 1  Unnamed: 7  1NNU 2 Well 2   mg/ml 2         [E] 2  \\\n",
       "0              -1.412         NaN     NaN     A2  0.000099  3.270000e-09   \n",
       "1              -0.108         NaN     NaN     B2       NaN           NaN   \n",
       "2               0.138         NaN     NaN     C2  0.000099  3.270000e-09   \n",
       "3              -1.956         NaN     NaN     D2  0.000099  3.270000e-09   \n",
       "4              -0.799         NaN     NaN     E2  0.000099  3.270000e-09   \n",
       "\n",
       "   [TCS] pM 2  velocity t:10-25 2  velocity t:35-60 2  \n",
       "0           0              -0.796              -1.586  \n",
       "1           0              -0.049              -0.128  \n",
       "2     1000000              -0.091               0.029  \n",
       "3        1000              -0.740              -1.699  \n",
       "4           1              -0.801              -0.686  "
      ]
     },
     "execution_count": 46,
     "metadata": {},
     "output_type": "execute_result"
    }
   ],
   "source": [
    "df"
   ]
  },
  {
   "cell_type": "markdown",
   "metadata": {},
   "source": [
    "#7.29  10k dil + 1 uM, nM, pM TCS \"Proof of Concept\""
   ]
  },
  {
   "cell_type": "code",
   "execution_count": 43,
   "metadata": {
    "collapsed": false
   },
   "outputs": [
    {
     "data": {
      "text/plain": [
       "<matplotlib.axes._subplots.AxesSubplot at 0x1079dd210>"
      ]
     },
     "execution_count": 43,
     "metadata": {},
     "output_type": "execute_result"
    },
    {
     "data": {
      "image/png": "[encoded data removed]",
      "text/plain": [
       "<matplotlib.figure.Figure at 0x107bf8a50>"
      ]
     },
     "metadata": {},
     "output_type": "display_data"
    }
   ],
   "source": [
    "df.plot(x='[TCS] pM',y='velocity t:35-60',kind='scatter')"
   ]
  },
  {
   "cell_type": "markdown",
   "metadata": {},
   "source": [
    "#8.4 1NNU 10-fold gradient with 2-ethyl-2-butenal "
   ]
  },
  {
   "cell_type": "code",
   "execution_count": 92,
   "metadata": {
    "collapsed": true
   },
   "outputs": [],
   "source": [
    "df = pandas.read_csv('8.4 1NNU 10-fold gradient with 2-ethyl-2-butenal - Sheet1.csv')"
   ]
  },
  {
   "cell_type": "code",
   "execution_count": 93,
   "metadata": {
    "collapsed": false
   },
   "outputs": [
    {
     "data": {
      "text/plain": [
       "Index([u'N1', u'Well', u'velocity t: 20-35', u'mg/ml', u'Enzyme 1',\n",
       "       u'log Enzyme 1', u'N2', u'Well.1', u'velocity t: 20-35.1', u'mg/ml.1',\n",
       "       u'Enzyme 2', u'log Enzyme 2'],\n",
       "      dtype='object')"
      ]
     },
     "execution_count": 93,
     "metadata": {},
     "output_type": "execute_result"
    }
   ],
   "source": [
    "df.columns"
   ]
  },
  {
   "cell_type": "code",
   "execution_count": 94,
   "metadata": {
    "collapsed": false
   },
   "outputs": [
    {
     "data": {
      "text/plain": [
       "<matplotlib.axes._subplots.AxesSubplot at 0x10896b2d0>"
      ]
     },
     "execution_count": 94,
     "metadata": {},
     "output_type": "execute_result"
    },
    {
     "data": {
      "image/png": "[encoded data removed]",
      "text/plain": [
       "<matplotlib.figure.Figure at 0x108836510>"
      ]
     },
     "metadata": {},
     "output_type": "display_data"
    }
   ],
   "source": [
    "df.plot(x='log Enzyme 1',y='velocity t: 20-35',kind='scatter')"
   ]
  },
  {
   "cell_type": "code",
   "execution_count": null,
   "metadata": {
    "collapsed": true
   },
   "outputs": [],
   "source": []
  },
  {
   "cell_type": "markdown",
   "metadata": {},
   "source": [
    "#8.5 1NNU 10-fold gradient with heptadienal"
   ]
  },
  {
   "cell_type": "markdown",
   "metadata": {},
   "source": [
    "#8.4 1NNU 10-fold gradient with trans-2-pentenal"
   ]
  },
  {
   "cell_type": "code",
   "execution_count": 17,
   "metadata": {
    "collapsed": true
   },
   "outputs": [],
   "source": [
    "\n",
    "df = pandas.read_csv('/Users/gabrielfreund/Downloads/clean 1NNU w. trans-2-pentenal velocity vs. substrate conc..xlsx - Sheet2(1).csv')"
   ]
  },
  {
   "cell_type": "code",
   "execution_count": null,
   "metadata": {
    "collapsed": true
   },
   "outputs": [],
   "source": []
  },
  {
   "cell_type": "code",
   "execution_count": 21,
   "metadata": {
    "collapsed": false
   },
   "outputs": [
    {
     "data": {
      "text/plain": [
       "Index([u'Well', u'velocity', u'substrate', u'Abs value velocity',\n",
       "       u'Enzyme mg/ml', u'enzyme'],\n",
       "      dtype='object')"
      ]
     },
     "execution_count": 21,
     "metadata": {},
     "output_type": "execute_result"
    }
   ],
   "source": [
    "df.columns"
   ]
  },
  {
   "cell_type": "markdown",
   "metadata": {},
   "source": [
    "# 1NNU with trans-2-pentenal\n",
    "\n",
    "This is a plot of XXX and YYY undee these conditions ... "
   ]
  },
  {
   "cell_type": "markdown",
   "metadata": {},
   "source": [
    "TH8s is a thing"
   ]
  },
  {
   "cell_type": "code",
   "execution_count": 22,
   "metadata": {
    "collapsed": false
   },
   "outputs": [
    {
     "data": {
      "text/plain": [
       "<matplotlib.axes._subplots.AxesSubplot at 0x10c0e8ed0>"
      ]
     },
     "execution_count": 22,
     "metadata": {},
     "output_type": "execute_result"
    },
    {
     "data": {
      "image/png": "[encoded data removed]",
      "text/plain": [
       "<matplotlib.figure.Figure at 0x10c0e8d50>"
      ]
     },
     "metadata": {},
     "output_type": "display_data"
    }
   ],
   "source": [
    "df.plot(x='substrate',y='velocity',kind='scatter')"
   ]
  },
  {
   "cell_type": "markdown",
   "metadata": {
    "collapsed": true
   },
   "source": [
    "#8.6 1NNU 2-ethyl-2-butenal dilution"
   ]
  },
  {
   "cell_type": "markdown",
   "metadata": {},
   "source": [
    "#8.6 1NNU heptadienal dilution "
   ]
  },
  {
   "cell_type": "markdown",
   "metadata": {},
   "source": [
    "#8.9 1NNU TCS (1,10 uM) with UCD and Woodland WW with T2P data"
   ]
  },
  {
   "cell_type": "code",
   "execution_count": 170,
   "metadata": {
    "collapsed": false
   },
   "outputs": [
    {
     "data": {
      "text/html": [
       "<div>\n",
       "<table border=\"1\" class=\"dataframe\">\n",
       "  <thead>\n",
       "    <tr style=\"text-align: right;\">\n",
       "      <th></th>\n",
       "      <th>Well</th>\n",
       "      <th>mg/ml</th>\n",
       "      <th>Enzyme 1</th>\n",
       "      <th>log Enzyme 1</th>\n",
       "      <th>velocity 1</th>\n",
       "      <th>Unnamed: 5</th>\n",
       "      <th>Well.1</th>\n",
       "      <th>mg/ml.1</th>\n",
       "      <th>Enzyme 2</th>\n",
       "      <th>velocity 2</th>\n",
       "      <th>bananas</th>\n",
       "    </tr>\n",
       "  </thead>\n",
       "  <tbody>\n",
       "    <tr>\n",
       "      <th>0</th>\n",
       "      <td>B11</td>\n",
       "      <td>2.450000e-02</td>\n",
       "      <td>8.070000e-07</td>\n",
       "      <td>-6.093126</td>\n",
       "      <td>-12.392</td>\n",
       "      <td>NaN</td>\n",
       "      <td>B12</td>\n",
       "      <td>2.050000e-02</td>\n",
       "      <td>6.750000e-07</td>\n",
       "      <td>-12.629</td>\n",
       "      <td>-6.093126</td>\n",
       "    </tr>\n",
       "    <tr>\n",
       "      <th>1</th>\n",
       "      <td>C11</td>\n",
       "      <td>2.450000e-03</td>\n",
       "      <td>8.070000e-08</td>\n",
       "      <td>-7.093126</td>\n",
       "      <td>-10.140</td>\n",
       "      <td>NaN</td>\n",
       "      <td>C12</td>\n",
       "      <td>2.050000e-03</td>\n",
       "      <td>6.750000e-08</td>\n",
       "      <td>-10.510</td>\n",
       "      <td>-7.093126</td>\n",
       "    </tr>\n",
       "    <tr>\n",
       "      <th>2</th>\n",
       "      <td>D11</td>\n",
       "      <td>2.450000e-04</td>\n",
       "      <td>8.070000e-09</td>\n",
       "      <td>-8.093126</td>\n",
       "      <td>-5.983</td>\n",
       "      <td>NaN</td>\n",
       "      <td>D12</td>\n",
       "      <td>2.050000e-04</td>\n",
       "      <td>6.750000e-09</td>\n",
       "      <td>-5.150</td>\n",
       "      <td>-8.093126</td>\n",
       "    </tr>\n",
       "    <tr>\n",
       "      <th>3</th>\n",
       "      <td>E11</td>\n",
       "      <td>2.450000e-05</td>\n",
       "      <td>8.070000e-10</td>\n",
       "      <td>-9.093126</td>\n",
       "      <td>-1.164</td>\n",
       "      <td>NaN</td>\n",
       "      <td>E12</td>\n",
       "      <td>2.050000e-05</td>\n",
       "      <td>6.750000e-10</td>\n",
       "      <td>-0.929</td>\n",
       "      <td>-9.093126</td>\n",
       "    </tr>\n",
       "    <tr>\n",
       "      <th>4</th>\n",
       "      <td>F11</td>\n",
       "      <td>2.450000e-06</td>\n",
       "      <td>8.070000e-11</td>\n",
       "      <td>-10.093126</td>\n",
       "      <td>-0.213</td>\n",
       "      <td>NaN</td>\n",
       "      <td>F12</td>\n",
       "      <td>2.050000e-06</td>\n",
       "      <td>6.750000e-11</td>\n",
       "      <td>-0.288</td>\n",
       "      <td>-10.093126</td>\n",
       "    </tr>\n",
       "    <tr>\n",
       "      <th>5</th>\n",
       "      <td>G11</td>\n",
       "      <td>2.450000e-07</td>\n",
       "      <td>8.070000e-12</td>\n",
       "      <td>-11.093126</td>\n",
       "      <td>-0.175</td>\n",
       "      <td>NaN</td>\n",
       "      <td>G12</td>\n",
       "      <td>2.050000e-07</td>\n",
       "      <td>6.750000e-12</td>\n",
       "      <td>-0.128</td>\n",
       "      <td>-11.093126</td>\n",
       "    </tr>\n",
       "  </tbody>\n",
       "</table>\n",
       "</div>"
      ],
      "text/plain": [
       "  Well         mg/ml      Enzyme 1  log Enzyme 1  velocity 1  Unnamed: 5  \\\n",
       "0  B11  2.450000e-02  8.070000e-07     -6.093126     -12.392         NaN   \n",
       "1  C11  2.450000e-03  8.070000e-08     -7.093126     -10.140         NaN   \n",
       "2  D11  2.450000e-04  8.070000e-09     -8.093126      -5.983         NaN   \n",
       "3  E11  2.450000e-05  8.070000e-10     -9.093126      -1.164         NaN   \n",
       "4  F11  2.450000e-06  8.070000e-11    -10.093126      -0.213         NaN   \n",
       "5  G11  2.450000e-07  8.070000e-12    -11.093126      -0.175         NaN   \n",
       "\n",
       "  Well.1       mg/ml.1      Enzyme 2  velocity 2    bananas  \n",
       "0    B12  2.050000e-02  6.750000e-07     -12.629  -6.093126  \n",
       "1    C12  2.050000e-03  6.750000e-08     -10.510  -7.093126  \n",
       "2    D12  2.050000e-04  6.750000e-09      -5.150  -8.093126  \n",
       "3    E12  2.050000e-05  6.750000e-10      -0.929  -9.093126  \n",
       "4    F12  2.050000e-06  6.750000e-11      -0.288 -10.093126  \n",
       "5    G12  2.050000e-07  6.750000e-12      -0.128 -11.093126  "
      ]
     },
     "execution_count": 170,
     "metadata": {},
     "output_type": "execute_result"
    }
   ],
   "source": [
    "clean_my_dataframe( df1 )"
   ]
  },
  {
   "cell_type": "code",
   "execution_count": null,
   "metadata": {
    "collapsed": true
   },
   "outputs": [],
   "source": []
  }
 ],
 "metadata": {
  "kernelspec": {
   "display_name": "Python 2",
   "language": "python",
   "name": "python2"
  },
  "language_info": {
   "codemirror_mode": {
    "name": "ipython",
    "version": 2
   },
   "file_extension": ".py",
   "mimetype": "text/x-python",
   "name": "python",
   "nbconvert_exporter": "python",
   "pygments_lexer": "ipython2",
   "version": "2.7.10"
  }
 },
 "nbformat": 4,
 "nbformat_minor": 0
}
